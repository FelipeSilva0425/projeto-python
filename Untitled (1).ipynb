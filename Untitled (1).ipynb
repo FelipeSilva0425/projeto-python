{
 "cells": [
  {
   "cell_type": "markdown",
   "id": "77d6e469",
   "metadata": {},
   "source": [
    "# Gerador de Orçamentos "
   ]
  },
  {
   "cell_type": "markdown",
   "id": "e149903d",
   "metadata": {},
   "source": [
    "# Mostrador de daos para o usuário"
   ]
  },
  {
   "cell_type": "code",
   "execution_count": 1,
   "id": "9b6e00b4",
   "metadata": {},
   "outputs": [
    {
     "name": "stdout",
     "output_type": "stream",
     "text": [
      "Orçamento gerado com sucesso!\n",
      "Semana de python na pratica!\n",
      "Eu vou ser expert na linguagem de python!\n"
     ]
    }
   ],
   "source": [
    "print(\"Orçamento gerado com sucesso!\")\n",
    "print(\"Semana de python na pratica!\")\n",
    "print(\"Eu vou ser expert na linguagem de python!\")"
   ]
  },
  {
   "cell_type": "markdown",
   "id": "2cdd09dc",
   "metadata": {},
   "source": [
    "# Entradas de dado do usuário "
   ]
  },
  {
   "cell_type": "code",
   "execution_count": 5,
   "id": "1c739626",
   "metadata": {},
   "outputs": [
    {
     "name": "stdout",
     "output_type": "stream",
     "text": [
      "Digite a descrição do projeto:Desenvolvimento Python\n",
      "Digite a qauntidae de horas previstas:200\n",
      "Digite o valor da hora trabalhada: 100\n",
      "Digite o prazo estimado: 3 meses\n"
     ]
    },
    {
     "data": {
      "text/plain": [
       "'3 meses'"
      ]
     },
     "execution_count": 5,
     "metadata": {},
     "output_type": "execute_result"
    }
   ],
   "source": [
    "input(\"Digite a descrição do projeto:\")\n",
    "input(\"Digite a qauntidae de horas previstas:\")\n",
    "input(\"Digite o valor da hora trabalhada: \")\n",
    "input(\"Digite o prazo estimado: \")"
   ]
  },
  {
   "cell_type": "markdown",
   "id": "01d8c0fa",
   "metadata": {},
   "source": [
    "# Armazenando dados em variáveis"
   ]
  },
  {
   "cell_type": "code",
   "execution_count": 4,
   "id": "3c5c1c7c",
   "metadata": {},
   "outputs": [
    {
     "name": "stdout",
     "output_type": "stream",
     "text": [
      "Diigite a descrição do projeto: Desenvolvimento Python\n",
      "Digite a quantidade de horas previstas: 200\n",
      "Digite o valor da hora trabalhada: 150\n",
      "Digite o prazo estimado: 3 meses\n"
     ]
    }
   ],
   "source": [
    "projeto = input(\"Diigite a descrição do projeto: \" )\n",
    "horas_previstas = input (\"Digite a quantidade de horas previstas: \")\n",
    "valor_hora = input (\"Digite o valor da hora trabalhada: \")\n",
    "prazo = input(\"Digite o prazo estimado: \")\n"
   ]
  },
  {
   "cell_type": "code",
   "execution_count": 5,
   "id": "d1118076",
   "metadata": {},
   "outputs": [
    {
     "name": "stdout",
     "output_type": "stream",
     "text": [
      "3 meses\n"
     ]
    }
   ],
   "source": [
    "print(prazo)"
   ]
  },
  {
   "cell_type": "markdown",
   "id": "610a10ce",
   "metadata": {},
   "source": [
    "# Realizando cálculos com Python\n",
    "\n",
    "- quantidade de horas previstas * valor hora trabalhada "
   ]
  },
  {
   "cell_type": "code",
   "execution_count": 9,
   "id": "d6a3e162",
   "metadata": {
    "scrolled": true
   },
   "outputs": [],
   "source": [
    "valor_total = int(horas_previstas) * int(valor_hora)"
   ]
  },
  {
   "cell_type": "code",
   "execution_count": 10,
   "id": "035f293c",
   "metadata": {},
   "outputs": [
    {
     "data": {
      "text/plain": [
       "30000"
      ]
     },
     "execution_count": 10,
     "metadata": {},
     "output_type": "execute_result"
    }
   ],
   "source": [
    "valor_total"
   ]
  },
  {
   "cell_type": "markdown",
   "id": "75821d78",
   "metadata": {},
   "source": [
    "# Tipos de dados \n",
    "- texto (str)\n",
    "- número (int)"
   ]
  },
  {
   "cell_type": "code",
   "execution_count": 17,
   "id": "5bcd9626",
   "metadata": {},
   "outputs": [
    {
     "data": {
      "text/plain": [
       "10"
      ]
     },
     "execution_count": 17,
     "metadata": {},
     "output_type": "execute_result"
    }
   ],
   "source": [
    "int(\"10\")"
   ]
  },
  {
   "cell_type": "markdown",
   "id": "5ef9ceff",
   "metadata": {},
   "source": [
    "# Gerando o PDF"
   ]
  },
  {
   "cell_type": "code",
   "execution_count": 12,
   "id": "362872ae",
   "metadata": {},
   "outputs": [
    {
     "name": "stdout",
     "output_type": "stream",
     "text": [
      "Requirement already satisfied: fpdf in c:\\users\\eu\\anaconda3\\lib\\site-packages (1.7.2)\n"
     ]
    }
   ],
   "source": [
    "!pip install fpdf"
   ]
  },
  {
   "cell_type": "code",
   "execution_count": 14,
   "id": "c80bf7b6",
   "metadata": {},
   "outputs": [],
   "source": [
    "from fpdf import FPDF"
   ]
  },
  {
   "cell_type": "code",
   "execution_count": 38,
   "id": "a2ea0523",
   "metadata": {},
   "outputs": [
    {
     "name": "stdout",
     "output_type": "stream",
     "text": [
      "Orçamento Gerado Com sucesso! \n"
     ]
    }
   ],
   "source": [
    "pdf = FPDF()\n",
    "pdf.add_page()\n",
    "pdf.set_font(\"Arial\")\n",
    "\n",
    "pdf.image(\"template.png\", x=0, y=0)\n",
    "\n",
    "pdf.text(115, 145, projeto)\n",
    "pdf.text(115, 160, horas_previstas)\n",
    "pdf.text(115, 175, valor_hora)\n",
    "pdf.text(115, 190, prazo)\n",
    "pdf.text(115, 205, str(valor_total))\n",
    "\n",
    "pdf.output(\"Orçamento.pdf\")\n",
    "print(\"Orçamento Gerado Com sucesso! \")"
   ]
  },
  {
   "cell_type": "code",
   "execution_count": 18,
   "id": "2764394d",
   "metadata": {},
   "outputs": [
    {
     "data": {
      "text/plain": [
       "int"
      ]
     },
     "execution_count": 18,
     "metadata": {},
     "output_type": "execute_result"
    }
   ],
   "source": [
    "type(valor_total)"
   ]
  },
  {
   "cell_type": "code",
   "execution_count": null,
   "id": "a0e91a24",
   "metadata": {},
   "outputs": [],
   "source": []
  },
  {
   "cell_type": "code",
   "execution_count": null,
   "id": "6c06f9cd",
   "metadata": {},
   "outputs": [],
   "source": []
  },
  {
   "cell_type": "code",
   "execution_count": null,
   "id": "61c81617",
   "metadata": {},
   "outputs": [],
   "source": []
  },
  {
   "cell_type": "code",
   "execution_count": null,
   "id": "b7e83d59",
   "metadata": {},
   "outputs": [],
   "source": []
  }
 ],
 "metadata": {
  "kernelspec": {
   "display_name": "Python 3 (ipykernel)",
   "language": "python",
   "name": "python3"
  },
  "language_info": {
   "codemirror_mode": {
    "name": "ipython",
    "version": 3
   },
   "file_extension": ".py",
   "mimetype": "text/x-python",
   "name": "python",
   "nbconvert_exporter": "python",
   "pygments_lexer": "ipython3",
   "version": "3.11.5"
  }
 },
 "nbformat": 4,
 "nbformat_minor": 5
}
